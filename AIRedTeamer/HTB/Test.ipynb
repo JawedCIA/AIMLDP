{
 "cells": [
  {
   "cell_type": "code",
   "execution_count": 2,
   "id": "afad1bcb-1592-4ae9-8e2b-12d455ed9513",
   "metadata": {},
   "outputs": [
    {
     "name": "stdout",
     "output_type": "stream",
     "text": [
      "Hello, JupyterLabwqew!\n"
     ]
    }
   ],
   "source": [
    "print(\"Hello, JupyterLabwqew!\")"
   ]
  },
  {
   "cell_type": "code",
   "execution_count": 3,
   "id": "bf4ebb47-755e-4bf4-a4ef-9d1b457051f5",
   "metadata": {},
   "outputs": [
    {
     "name": "stdout",
     "output_type": "stream",
     "text": [
      "    column1   column2\n",
      "0  0.352980  2.888490\n",
      "1  0.954253  7.163379\n",
      "2  0.315487  3.209140\n",
      "3  0.141598  9.357502\n",
      "4  0.372328  9.197744\n"
     ]
    },
    {
     "data": {
      "image/png": "[encoded data removed]",
      "text/plain": [
       "<Figure size 640x480 with 1 Axes>"
      ]
     },
     "metadata": {},
     "output_type": "display_data"
    }
   ],
   "source": [
    "import pandas as pd\n",
    "import matplotlib.pyplot as plt\n",
    "import numpy as np\n",
    "\n",
    "# Create a sample DataFrame\n",
    "data = pd.DataFrame({\n",
    "    \"column1\": np.random.rand(50),  # 50 random values for column1\n",
    "    \"column2\": np.random.rand(50) * 10  # 50 random values (multiplied by 10) for column2\n",
    "})\n",
    "\n",
    "# Display the first few rows\n",
    "print(data.head())\n",
    "\n",
    "# Create a scatter plot\n",
    "plt.scatter(data[\"column1\"], data[\"column2\"])\n",
    "plt.xlabel(\"Column 1\")\n",
    "plt.ylabel(\"Column 2\")\n",
    "plt.title(\"Scatter Plot\")\n",
    "plt.show()"
   ]
  },
  {
   "cell_type": "code",
   "execution_count": 1,
   "id": "94c443ca-1d1f-4c39-87d9-041c9613f9c7",
   "metadata": {},
   "outputs": [],
   "source": [
    "import pandas as pd\n"
   ]
  },
  {
   "cell_type": "code",
   "execution_count": 4,
   "id": "cdc57f77-4bff-4a97-a31e-5a695568835a",
   "metadata": {},
   "outputs": [],
   "source": [
    "data = pd.read_csv(\"demo_dataset/demo_dataset.csv\")"
   ]
  },
  {
   "cell_type": "code",
   "execution_count": 7,
   "id": "35e859f0-eb08-4eb9-b2e3-7819d18cac7c",
   "metadata": {},
   "outputs": [
    {
     "data": {
      "text/html": [
       "<div>\n",
       "<style scoped>\n",
       "    .dataframe tbody tr th:only-of-type {\n",
       "        vertical-align: middle;\n",
       "    }\n",
       "\n",
       "    .dataframe tbody tr th {\n",
       "        vertical-align: top;\n",
       "    }\n",
       "\n",
       "    .dataframe thead th {\n",
       "        text-align: right;\n",
       "    }\n",
       "</style>\n",
       "<table border=\"1\" class=\"dataframe\">\n",
       "  <thead>\n",
       "    <tr style=\"text-align: right;\">\n",
       "      <th></th>\n",
       "      <th>log_id</th>\n",
       "      <th>source_ip</th>\n",
       "      <th>destination_port</th>\n",
       "      <th>protocol</th>\n",
       "      <th>bytes_transferred</th>\n",
       "      <th>threat_level</th>\n",
       "    </tr>\n",
       "  </thead>\n",
       "  <tbody>\n",
       "    <tr>\n",
       "      <th>0</th>\n",
       "      <td>10</td>\n",
       "      <td>10.0.0.100</td>\n",
       "      <td>STRING_PORT</td>\n",
       "      <td>FTP</td>\n",
       "      <td>4096</td>\n",
       "      <td>?</td>\n",
       "    </tr>\n",
       "    <tr>\n",
       "      <th>1</th>\n",
       "      <td>12</td>\n",
       "      <td>172.16.254.100</td>\n",
       "      <td>110</td>\n",
       "      <td>POP3</td>\n",
       "      <td>NEGATIVE</td>\n",
       "      <td>1</td>\n",
       "    </tr>\n",
       "    <tr>\n",
       "      <th>2</th>\n",
       "      <td>27</td>\n",
       "      <td>172.16.254.200</td>\n",
       "      <td>110</td>\n",
       "      <td>POP3</td>\n",
       "      <td>NON_NUMERIC</td>\n",
       "      <td>1</td>\n",
       "    </tr>\n",
       "    <tr>\n",
       "      <th>3</th>\n",
       "      <td>1</td>\n",
       "      <td>192.168.1.100</td>\n",
       "      <td>80</td>\n",
       "      <td>HTTP</td>\n",
       "      <td>1024</td>\n",
       "      <td>0</td>\n",
       "    </tr>\n",
       "    <tr>\n",
       "      <th>4</th>\n",
       "      <td>2</td>\n",
       "      <td>192.168.1.81</td>\n",
       "      <td>53</td>\n",
       "      <td>TLS</td>\n",
       "      <td>9765</td>\n",
       "      <td>0</td>\n",
       "    </tr>\n",
       "    <tr>\n",
       "      <th>5</th>\n",
       "      <td>3</td>\n",
       "      <td>192.168.1.147</td>\n",
       "      <td>80</td>\n",
       "      <td>SSH</td>\n",
       "      <td>1296</td>\n",
       "      <td>1</td>\n",
       "    </tr>\n",
       "    <tr>\n",
       "      <th>6</th>\n",
       "      <td>4</td>\n",
       "      <td>192.168.1.94</td>\n",
       "      <td>22</td>\n",
       "      <td>POP3</td>\n",
       "      <td>7185</td>\n",
       "      <td>0</td>\n",
       "    </tr>\n",
       "    <tr>\n",
       "      <th>7</th>\n",
       "      <td>5</td>\n",
       "      <td>192.168.1.55</td>\n",
       "      <td>110</td>\n",
       "      <td>DNS</td>\n",
       "      <td>5088</td>\n",
       "      <td>2</td>\n",
       "    </tr>\n",
       "    <tr>\n",
       "      <th>8</th>\n",
       "      <td>6</td>\n",
       "      <td>192.168.1.171</td>\n",
       "      <td>443</td>\n",
       "      <td>HTTPS</td>\n",
       "      <td>5989</td>\n",
       "      <td>2</td>\n",
       "    </tr>\n",
       "    <tr>\n",
       "      <th>9</th>\n",
       "      <td>7</td>\n",
       "      <td>192.168.1.196</td>\n",
       "      <td>22</td>\n",
       "      <td>SMTP</td>\n",
       "      <td>3166</td>\n",
       "      <td>2</td>\n",
       "    </tr>\n",
       "  </tbody>\n",
       "</table>\n",
       "</div>"
      ],
      "text/plain": [
       "   log_id       source_ip destination_port protocol bytes_transferred  \\\n",
       "0      10      10.0.0.100      STRING_PORT      FTP              4096   \n",
       "1      12  172.16.254.100              110     POP3          NEGATIVE   \n",
       "2      27  172.16.254.200              110     POP3       NON_NUMERIC   \n",
       "3       1   192.168.1.100               80     HTTP              1024   \n",
       "4       2    192.168.1.81               53      TLS              9765   \n",
       "5       3   192.168.1.147               80      SSH              1296   \n",
       "6       4    192.168.1.94               22     POP3              7185   \n",
       "7       5    192.168.1.55              110      DNS              5088   \n",
       "8       6   192.168.1.171              443    HTTPS              5989   \n",
       "9       7   192.168.1.196               22     SMTP              3166   \n",
       "\n",
       "  threat_level  \n",
       "0            ?  \n",
       "1            1  \n",
       "2            1  \n",
       "3            0  \n",
       "4            0  \n",
       "5            1  \n",
       "6            0  \n",
       "7            2  \n",
       "8            2  \n",
       "9            2  "
      ]
     },
     "execution_count": 7,
     "metadata": {},
     "output_type": "execute_result"
    }
   ],
   "source": [
    "data.head(10)"
   ]
  },
  {
   "cell_type": "code",
   "execution_count": 8,
   "id": "3b4f3cd7-f4b8-4370-8461-dd1b567240f7",
   "metadata": {},
   "outputs": [
    {
     "name": "stdout",
     "output_type": "stream",
     "text": [
      "<class 'pandas.core.frame.DataFrame'>\n",
      "RangeIndex: 100 entries, 0 to 99\n",
      "Data columns (total 6 columns):\n",
      " #   Column             Non-Null Count  Dtype \n",
      "---  ------             --------------  ----- \n",
      " 0   log_id             100 non-null    int64 \n",
      " 1   source_ip          99 non-null     object\n",
      " 2   destination_port   99 non-null     object\n",
      " 3   protocol           100 non-null    object\n",
      " 4   bytes_transferred  100 non-null    object\n",
      " 5   threat_level       100 non-null    object\n",
      "dtypes: int64(1), object(5)\n",
      "memory usage: 4.8+ KB\n"
     ]
    }
   ],
   "source": [
    "data.info()"
   ]
  },
  {
   "cell_type": "code",
   "execution_count": 9,
   "id": "9e95b3cd-68ca-4cc6-a7dd-8cd5f4d29cef",
   "metadata": {},
   "outputs": [
    {
     "name": "stdout",
     "output_type": "stream",
     "text": [
      "log_id               0\n",
      "source_ip            1\n",
      "destination_port     1\n",
      "protocol             0\n",
      "bytes_transferred    0\n",
      "threat_level         0\n",
      "dtype: int64\n"
     ]
    }
   ],
   "source": [
    "print(data.isnull().sum())"
   ]
  },
  {
   "cell_type": "code",
   "execution_count": 10,
   "id": "84f5bff5-126e-44e0-917b-1d9b6770fdf7",
   "metadata": {},
   "outputs": [
    {
     "name": "stdout",
     "output_type": "stream",
     "text": [
      "    log_id       source_ip destination_port protocol bytes_transferred  \\\n",
      "40      41      10.0.0.300               25     SMTP              4096   \n",
      "51      52    10.10.10.450      STRING_PORT      FTP              4096   \n",
      "55      56             NaN               53      DNS              1024   \n",
      "57      58   192.168.1.475              NaN      UDP              2048   \n",
      "63      64      MISSING_IP               53      DNS              1024   \n",
      "65      66   192.168.1.600      UNUSED_PORT      UDP              2048   \n",
      "71      72      MISSING_IP               53      DNS              1024   \n",
      "74      75    172.16.1.400               80     HTTP              1024   \n",
      "82      83    172.16.1.450               80     HTTP              1024   \n",
      "87      88      MISSING_IP               53      DNS              1024   \n",
      "88      89    10.10.10.700              443      TLS               512   \n",
      "92      93      INVALID_IP              110     POP3              4096   \n",
      "93      94  192.168.1.1050               53      DNS       NON_NUMERIC   \n",
      "95      96      MISSING_IP               25     SMTP              4096   \n",
      "97      98  192.168.1.1100      UNUSED_PORT      UDP              2048   \n",
      "\n",
      "   threat_level  \n",
      "40            0  \n",
      "51            ?  \n",
      "55            0  \n",
      "57            1  \n",
      "63            0  \n",
      "65            1  \n",
      "71            0  \n",
      "74            0  \n",
      "82            0  \n",
      "87            0  \n",
      "88            1  \n",
      "92            1  \n",
      "93            0  \n",
      "95            1  \n",
      "97            0  \n"
     ]
    }
   ],
   "source": [
    "import re\n",
    "\n",
    "def is_valid_ip(ip):\n",
    "    pattern = re.compile(r'^((25[0-5]|2[0-4][0-9]|[01]?[0-9][0-9]?)\\.){3}(25[0-5]|2[0-4][0-9]|[01]?[0-9][0-9]?)$')\n",
    "    return bool(pattern.match(ip))\n",
    "\n",
    "# Check for invalid IP addresses\n",
    "invalid_ips = data[~data['source_ip'].astype(str).apply(is_valid_ip)]\n",
    "print(invalid_ips)"
   ]
  },
  {
   "cell_type": "code",
   "execution_count": 11,
   "id": "9de2a495-e6d0-453d-ae2d-fe3787278d37",
   "metadata": {},
   "outputs": [
    {
     "name": "stdout",
     "output_type": "stream",
     "text": [
      "    log_id       source_ip destination_port protocol bytes_transferred  \\\n",
      "0       10      10.0.0.100      STRING_PORT      FTP              4096   \n",
      "34      35   192.168.1.200      STRING_PORT      FTP              4096   \n",
      "51      52    10.10.10.450      STRING_PORT      FTP              4096   \n",
      "57      58   192.168.1.475              NaN      UDP              2048   \n",
      "65      66   192.168.1.600      UNUSED_PORT      UDP              2048   \n",
      "67      68     10.10.10.77      STRING_PORT      FTP              4096   \n",
      "78      79   172.16.254.77           999999     HTTP              2048   \n",
      "97      98  192.168.1.1100      UNUSED_PORT      UDP              2048   \n",
      "\n",
      "   threat_level  \n",
      "0             ?  \n",
      "34            ?  \n",
      "51            ?  \n",
      "57            1  \n",
      "65            1  \n",
      "67            ?  \n",
      "78            1  \n",
      "97            0  \n"
     ]
    }
   ],
   "source": [
    "def is_valid_port(port):\n",
    "    try:\n",
    "        port = int(port)\n",
    "        return 0 <= port <= 65535\n",
    "    except ValueError:\n",
    "        return False\n",
    "\n",
    "# Check for invalid port numbers\n",
    "invalid_ports = data[~data['destination_port'].apply(is_valid_port)]\n",
    "print(invalid_ports)"
   ]
  },
  {
   "cell_type": "code",
   "execution_count": 12,
   "id": "d4f74810-77e8-40ee-8f3f-a91acf04d955",
   "metadata": {},
   "outputs": [
    {
     "name": "stdout",
     "output_type": "stream",
     "text": [
      "    log_id      source_ip destination_port protocol bytes_transferred  \\\n",
      "30      31  192.168.1.119              443  UNKNOWN              9513   \n",
      "80      81  192.168.1.224               25  UNKNOWN              1161   \n",
      "\n",
      "   threat_level  \n",
      "30            2  \n",
      "80            1  \n"
     ]
    }
   ],
   "source": [
    "valid_protocols = ['TCP', 'TLS', 'SSH', 'POP3', 'DNS', 'HTTPS', 'SMTP', 'FTP', 'UDP', 'HTTP']\n",
    "\n",
    "# Check for invalid protocol values\n",
    "invalid_protocols = data[~data['protocol'].isin(valid_protocols)]\n",
    "print(invalid_protocols)"
   ]
  },
  {
   "cell_type": "code",
   "execution_count": 13,
   "id": "1eb11a3e-713e-40b4-9607-118cc1f6a1ac",
   "metadata": {},
   "outputs": [
    {
     "name": "stdout",
     "output_type": "stream",
     "text": [
      "    log_id       source_ip destination_port protocol bytes_transferred  \\\n",
      "1       12  172.16.254.100              110     POP3          NEGATIVE   \n",
      "2       27  172.16.254.200              110     POP3       NON_NUMERIC   \n",
      "93      94  192.168.1.1050               53      DNS       NON_NUMERIC   \n",
      "\n",
      "   threat_level  \n",
      "1             1  \n",
      "2             1  \n",
      "93            0  \n"
     ]
    }
   ],
   "source": [
    "def is_valid_bytes(bytes):\n",
    "    try:\n",
    "        bytes = int(bytes)\n",
    "        return bytes >= 0\n",
    "    except ValueError:\n",
    "        return False\n",
    "\n",
    "# Check for invalid bytes transferred\n",
    "invalid_bytes = data[~data['bytes_transferred'].apply(is_valid_bytes)]\n",
    "print(invalid_bytes)"
   ]
  },
  {
   "cell_type": "code",
   "execution_count": 14,
   "id": "a854552d-aa7f-461c-a576-c0ea10d7bf80",
   "metadata": {},
   "outputs": [
    {
     "name": "stdout",
     "output_type": "stream",
     "text": [
      "    log_id      source_ip destination_port protocol bytes_transferred  \\\n",
      "0       10     10.0.0.100      STRING_PORT      FTP              4096   \n",
      "34      35  192.168.1.200      STRING_PORT      FTP              4096   \n",
      "51      52   10.10.10.450      STRING_PORT      FTP              4096   \n",
      "67      68    10.10.10.77      STRING_PORT      FTP              4096   \n",
      "\n",
      "   threat_level  \n",
      "0             ?  \n",
      "34            ?  \n",
      "51            ?  \n",
      "67            ?  \n"
     ]
    }
   ],
   "source": [
    "def is_valid_threat_level(threat_level):\n",
    "    try:\n",
    "        threat_level = int(threat_level)\n",
    "        return 0 <= threat_level <= 2\n",
    "    except ValueError:\n",
    "        return False\n",
    "\n",
    "# Check for invalid threat levels\n",
    "invalid_threat_levels = data[~data['threat_level'].apply(is_valid_threat_level)]\n",
    "print(invalid_threat_levels)"
   ]
  },
  {
   "cell_type": "code",
   "execution_count": 15,
   "id": "93c69bdd-e7f0-4769-9b78-116d4a4fc540",
   "metadata": {},
   "outputs": [
    {
     "name": "stdout",
     "output_type": "stream",
     "text": [
      "            log_id     source_ip destination_port protocol bytes_transferred  \\\n",
      "count    77.000000            77               77       77                77   \n",
      "unique         NaN            68                6        9                73   \n",
      "top            NaN  192.168.1.55               80     HTTP              1024   \n",
      "freq           NaN             3               22       22                 4   \n",
      "mean     46.519481           NaN              NaN      NaN               NaN   \n",
      "std      28.591317           NaN              NaN      NaN               NaN   \n",
      "min       1.000000           NaN              NaN      NaN               NaN   \n",
      "25%      22.000000           NaN              NaN      NaN               NaN   \n",
      "50%      45.000000           NaN              NaN      NaN               NaN   \n",
      "75%      70.000000           NaN              NaN      NaN               NaN   \n",
      "max     100.000000           NaN              NaN      NaN               NaN   \n",
      "\n",
      "       threat_level  \n",
      "count            77  \n",
      "unique            3  \n",
      "top               1  \n",
      "freq             26  \n",
      "mean            NaN  \n",
      "std             NaN  \n",
      "min             NaN  \n",
      "25%             NaN  \n",
      "50%             NaN  \n",
      "75%             NaN  \n",
      "max             NaN  \n"
     ]
    }
   ],
   "source": [
    "# the ignore errors covers the fact that there might be some overlap between indexes that match other invalid criteria\n",
    "data = data.drop(invalid_ips.index, errors='ignore') \n",
    "data = data.drop(invalid_ports.index, errors='ignore')\n",
    "data = data.drop(invalid_protocols.index, errors='ignore')\n",
    "data = data.drop(invalid_bytes.index, errors='ignore')\n",
    "data = data.drop(invalid_threat_levels.index, errors='ignore')\n",
    "\n",
    "print(data.describe(include='all'))"
   ]
  },
  {
   "cell_type": "code",
   "execution_count": 17,
   "id": "bea404ab-6e2e-4860-b840-4d267def3f99",
   "metadata": {},
   "outputs": [
    {
     "data": {
      "text/html": [
       "<div>\n",
       "<style scoped>\n",
       "    .dataframe tbody tr th:only-of-type {\n",
       "        vertical-align: middle;\n",
       "    }\n",
       "\n",
       "    .dataframe tbody tr th {\n",
       "        vertical-align: top;\n",
       "    }\n",
       "\n",
       "    .dataframe thead th {\n",
       "        text-align: right;\n",
       "    }\n",
       "</style>\n",
       "<table border=\"1\" class=\"dataframe\">\n",
       "  <thead>\n",
       "    <tr style=\"text-align: right;\">\n",
       "      <th></th>\n",
       "      <th>log_id</th>\n",
       "      <th>source_ip</th>\n",
       "      <th>destination_port</th>\n",
       "      <th>protocol</th>\n",
       "      <th>bytes_transferred</th>\n",
       "      <th>threat_level</th>\n",
       "    </tr>\n",
       "  </thead>\n",
       "  <tbody>\n",
       "    <tr>\n",
       "      <th>3</th>\n",
       "      <td>1</td>\n",
       "      <td>192.168.1.100</td>\n",
       "      <td>80</td>\n",
       "      <td>HTTP</td>\n",
       "      <td>1024</td>\n",
       "      <td>0</td>\n",
       "    </tr>\n",
       "    <tr>\n",
       "      <th>4</th>\n",
       "      <td>2</td>\n",
       "      <td>192.168.1.81</td>\n",
       "      <td>53</td>\n",
       "      <td>TLS</td>\n",
       "      <td>9765</td>\n",
       "      <td>0</td>\n",
       "    </tr>\n",
       "    <tr>\n",
       "      <th>5</th>\n",
       "      <td>3</td>\n",
       "      <td>192.168.1.147</td>\n",
       "      <td>80</td>\n",
       "      <td>SSH</td>\n",
       "      <td>1296</td>\n",
       "      <td>1</td>\n",
       "    </tr>\n",
       "    <tr>\n",
       "      <th>6</th>\n",
       "      <td>4</td>\n",
       "      <td>192.168.1.94</td>\n",
       "      <td>22</td>\n",
       "      <td>POP3</td>\n",
       "      <td>7185</td>\n",
       "      <td>0</td>\n",
       "    </tr>\n",
       "    <tr>\n",
       "      <th>7</th>\n",
       "      <td>5</td>\n",
       "      <td>192.168.1.55</td>\n",
       "      <td>110</td>\n",
       "      <td>DNS</td>\n",
       "      <td>5088</td>\n",
       "      <td>2</td>\n",
       "    </tr>\n",
       "    <tr>\n",
       "      <th>...</th>\n",
       "      <td>...</td>\n",
       "      <td>...</td>\n",
       "      <td>...</td>\n",
       "      <td>...</td>\n",
       "      <td>...</td>\n",
       "      <td>...</td>\n",
       "    </tr>\n",
       "    <tr>\n",
       "      <th>91</th>\n",
       "      <td>92</td>\n",
       "      <td>192.168.1.219</td>\n",
       "      <td>22</td>\n",
       "      <td>FTP</td>\n",
       "      <td>6949</td>\n",
       "      <td>1</td>\n",
       "    </tr>\n",
       "    <tr>\n",
       "      <th>94</th>\n",
       "      <td>95</td>\n",
       "      <td>192.168.1.174</td>\n",
       "      <td>80</td>\n",
       "      <td>HTTP</td>\n",
       "      <td>1649</td>\n",
       "      <td>2</td>\n",
       "    </tr>\n",
       "    <tr>\n",
       "      <th>96</th>\n",
       "      <td>97</td>\n",
       "      <td>192.168.1.60</td>\n",
       "      <td>80</td>\n",
       "      <td>HTTPS</td>\n",
       "      <td>4351</td>\n",
       "      <td>1</td>\n",
       "    </tr>\n",
       "    <tr>\n",
       "      <th>98</th>\n",
       "      <td>99</td>\n",
       "      <td>192.168.1.16</td>\n",
       "      <td>22</td>\n",
       "      <td>HTTP</td>\n",
       "      <td>9069</td>\n",
       "      <td>0</td>\n",
       "    </tr>\n",
       "    <tr>\n",
       "      <th>99</th>\n",
       "      <td>100</td>\n",
       "      <td>192.168.1.14</td>\n",
       "      <td>25</td>\n",
       "      <td>SMTP</td>\n",
       "      <td>1494</td>\n",
       "      <td>2</td>\n",
       "    </tr>\n",
       "  </tbody>\n",
       "</table>\n",
       "<p>77 rows × 6 columns</p>\n",
       "</div>"
      ],
      "text/plain": [
       "    log_id      source_ip destination_port protocol bytes_transferred  \\\n",
       "3        1  192.168.1.100               80     HTTP              1024   \n",
       "4        2   192.168.1.81               53      TLS              9765   \n",
       "5        3  192.168.1.147               80      SSH              1296   \n",
       "6        4   192.168.1.94               22     POP3              7185   \n",
       "7        5   192.168.1.55              110      DNS              5088   \n",
       "..     ...            ...              ...      ...               ...   \n",
       "91      92  192.168.1.219               22      FTP              6949   \n",
       "94      95  192.168.1.174               80     HTTP              1649   \n",
       "96      97   192.168.1.60               80    HTTPS              4351   \n",
       "98      99   192.168.1.16               22     HTTP              9069   \n",
       "99     100   192.168.1.14               25     SMTP              1494   \n",
       "\n",
       "   threat_level  \n",
       "3             0  \n",
       "4             0  \n",
       "5             1  \n",
       "6             0  \n",
       "7             2  \n",
       "..          ...  \n",
       "91            1  \n",
       "94            2  \n",
       "96            1  \n",
       "98            0  \n",
       "99            2  \n",
       "\n",
       "[77 rows x 6 columns]"
      ]
     },
     "execution_count": 17,
     "metadata": {},
     "output_type": "execute_result"
    }
   ],
   "source": [
    "data.head(100)"
   ]
  },
  {
   "cell_type": "code",
   "execution_count": 1,
   "id": "74f7dc38-2ad7-477a-9969-15be2ddd6a62",
   "metadata": {},
   "outputs": [],
   "source": [
    "import pandas as pd\n",
    "import numpy as np\n",
    "import re\n",
    "from ipaddress import ip_address\n",
    "\n",
    "df =  pd.read_csv(\"demo_dataset/demo_dataset.csv\")\n",
    "\n",
    "invalid_ips = ['INVALID_IP', 'MISSING_IP']\n",
    "invalid_ports = ['STRING_PORT', 'UNUSED_PORT']\n",
    "invalid_bytes = ['NON_NUMERIC', 'NEGATIVE']\n",
    "invalid_threat = ['?']\n",
    "\n",
    "df.replace(invalid_ips + invalid_ports + invalid_bytes + invalid_threat, np.nan, inplace=True)\n",
    "\n",
    "df['destination_port'] = pd.to_numeric(df['destination_port'], errors='coerce')\n",
    "df['bytes_transferred'] = pd.to_numeric(df['bytes_transferred'], errors='coerce')\n",
    "df['threat_level'] = pd.to_numeric(df['threat_level'], errors='coerce')\n",
    "\n",
    "def is_valid_ip(ip):\n",
    "    pattern = re.compile(r'^((25[0-5]|2[0-4][0-9]|[01]?\\d?\\d)\\.){3}(25[0-5]|2[0-4]\\d|[01]?\\d?\\d)$')\n",
    "    if pd.isna(ip) or not pattern.match(str(ip)):\n",
    "        return np.nan\n",
    "    return ip\n",
    "\n",
    "df['source_ip'] = df['source_ip'].apply(is_valid_ip)"
   ]
  },
  {
   "cell_type": "code",
   "execution_count": 6,
   "id": "96cc6c57-e5ad-433a-97d8-efcc21f22b2a",
   "metadata": {},
   "outputs": [
    {
     "name": "stdout",
     "output_type": "stream",
     "text": [
      "    log_id       source_ip  destination_port protocol  bytes_transferred  \\\n",
      "0       10      10.0.0.100               NaN      FTP             4096.0   \n",
      "1       12  172.16.254.100             110.0     POP3                NaN   \n",
      "2       27  172.16.254.200             110.0     POP3                NaN   \n",
      "3        1   192.168.1.100              80.0     HTTP             1024.0   \n",
      "4        2    192.168.1.81              53.0      TLS             9765.0   \n",
      "5        3   192.168.1.147              80.0      SSH             1296.0   \n",
      "6        4    192.168.1.94              22.0     POP3             7185.0   \n",
      "7        5    192.168.1.55             110.0      DNS             5088.0   \n",
      "8        6   192.168.1.171             443.0    HTTPS             5989.0   \n",
      "9        7   192.168.1.196              22.0     SMTP             3166.0   \n",
      "10       8    192.168.1.67             443.0     HTTP             8279.0   \n",
      "11       9    192.168.1.66              22.0      SSH             6124.0   \n",
      "12      11    192.168.1.55              80.0      TLS             1003.0   \n",
      "13      13    192.168.1.84              80.0      DNS             4138.0   \n",
      "14      14   192.168.1.160              80.0     HTTP             7480.0   \n",
      "15      15   192.168.1.232              22.0     SMTP             6571.0   \n",
      "16      16     172.16.1.75              80.0     HTTP             1024.0   \n",
      "17      17   192.168.1.184              53.0     HTTP             6899.0   \n",
      "18      18    192.168.1.57              53.0    HTTPS             8014.0   \n",
      "19      19    192.168.1.64             110.0     POP3             1501.0   \n",
      "\n",
      "    threat_level  \n",
      "0            NaN  \n",
      "1            1.0  \n",
      "2            1.0  \n",
      "3            0.0  \n",
      "4            0.0  \n",
      "5            1.0  \n",
      "6            0.0  \n",
      "7            2.0  \n",
      "8            2.0  \n",
      "9            2.0  \n",
      "10           1.0  \n",
      "11           0.0  \n",
      "12           1.0  \n",
      "13           2.0  \n",
      "14           0.0  \n",
      "15           1.0  \n",
      "16           0.0  \n",
      "17           2.0  \n",
      "18           2.0  \n",
      "19           0.0  \n"
     ]
    }
   ],
   "source": [
    "print(df.head(20))"
   ]
  },
  {
   "cell_type": "code",
   "execution_count": 7,
   "id": "b6b7302c-b126-46f7-aad7-4da23e465316",
   "metadata": {},
   "outputs": [],
   "source": [
    "from sklearn.impute import SimpleImputer\n",
    "\n",
    "numeric_cols = ['destination_port', 'bytes_transferred', 'threat_level']\n",
    "categorical_cols = ['protocol']\n",
    "\n",
    "num_imputer = SimpleImputer(strategy='median')\n",
    "df[numeric_cols] = num_imputer.fit_transform(df[numeric_cols])\n",
    "\n",
    "cat_imputer = SimpleImputer(strategy='most_frequent')\n",
    "df[categorical_cols] = cat_imputer.fit_transform(df[categorical_cols])"
   ]
  },
  {
   "cell_type": "code",
   "execution_count": 8,
   "id": "daa0c7e7-c3aa-44d3-b314-3336a314e7d2",
   "metadata": {},
   "outputs": [
    {
     "name": "stdout",
     "output_type": "stream",
     "text": [
      "   log_id       source_ip  destination_port protocol  bytes_transferred  \\\n",
      "0      10      10.0.0.100              80.0      FTP             4096.0   \n",
      "1      12  172.16.254.100             110.0     POP3             4096.0   \n",
      "2      27  172.16.254.200             110.0     POP3             4096.0   \n",
      "3       1   192.168.1.100              80.0     HTTP             1024.0   \n",
      "4       2    192.168.1.81              53.0      TLS             9765.0   \n",
      "\n",
      "   threat_level  \n",
      "0           1.0  \n",
      "1           1.0  \n",
      "2           1.0  \n",
      "3           0.0  \n",
      "4           0.0  \n"
     ]
    }
   ],
   "source": [
    "print(df.head())"
   ]
  },
  {
   "cell_type": "code",
   "execution_count": 9,
   "id": "17e43233-f073-423e-8de7-f3d74aa66598",
   "metadata": {},
   "outputs": [],
   "source": [
    "from sklearn.impute import KNNImputer\n",
    "\n",
    "knn_imputer = KNNImputer(n_neighbors=5)\n",
    "df[numeric_cols] = knn_imputer.fit_transform(df[numeric_cols])"
   ]
  },
  {
   "cell_type": "code",
   "execution_count": 10,
   "id": "190cc518-d9f8-4e96-aeef-b14f1965e3dc",
   "metadata": {},
   "outputs": [
    {
     "name": "stdout",
     "output_type": "stream",
     "text": [
      "            log_id     source_ip  destination_port protocol  \\\n",
      "count   100.000000            85        100.000000      100   \n",
      "unique         NaN            75               NaN       10   \n",
      "top            NaN  192.168.1.55               NaN     HTTP   \n",
      "freq           NaN             3               NaN       25   \n",
      "mean     50.500000           NaN      10121.500000      NaN   \n",
      "std      29.011492           NaN      99987.714971      NaN   \n",
      "min       1.000000           NaN         22.000000      NaN   \n",
      "25%      25.750000           NaN         53.000000      NaN   \n",
      "50%      50.500000           NaN         80.000000      NaN   \n",
      "75%      75.250000           NaN        110.000000      NaN   \n",
      "max     100.000000           NaN     999999.000000      NaN   \n",
      "\n",
      "        bytes_transferred  threat_level  \n",
      "count           100.00000    100.000000  \n",
      "unique                NaN           NaN  \n",
      "top                   NaN           NaN  \n",
      "freq                  NaN           NaN  \n",
      "mean           4138.64000      0.930000  \n",
      "std            2526.40978      0.781801  \n",
      "min             498.00000      0.000000  \n",
      "25%            1693.25000      0.000000  \n",
      "50%            4096.00000      1.000000  \n",
      "75%            5971.75000      2.000000  \n",
      "max            9765.00000      2.000000  \n"
     ]
    }
   ],
   "source": [
    "print(df.describe(include='all'))"
   ]
  },
  {
   "cell_type": "code",
   "execution_count": 11,
   "id": "31773d9a-d9eb-4ded-9024-5c6ed9dd7574",
   "metadata": {},
   "outputs": [],
   "source": [
    "valid_protocols = ['TCP', 'TLS', 'SSH', 'POP3', 'DNS', 'HTTPS', 'SMTP', 'FTP', 'UDP', 'HTTP']\n",
    "df.loc[~df['protocol'].isin(valid_protocols), 'protocol'] = df['protocol'].mode()[0]\n",
    "\n",
    "df['source_ip'] = df['source_ip'].fillna('0.0.0.0')\n",
    "df['destination_port'] = df['destination_port'].clip(lower=0, upper=65535)"
   ]
  },
  {
   "cell_type": "code",
   "execution_count": 12,
   "id": "0cce4ced-f9c6-4602-beac-3e973ec94eed",
   "metadata": {},
   "outputs": [
    {
     "name": "stdout",
     "output_type": "stream",
     "text": [
      "            log_id source_ip  destination_port protocol  bytes_transferred  \\\n",
      "count   100.000000       100        100.000000      100          100.00000   \n",
      "unique         NaN        76               NaN        9                NaN   \n",
      "top            NaN   0.0.0.0               NaN     HTTP                NaN   \n",
      "freq           NaN        15               NaN       27                NaN   \n",
      "mean     50.500000       NaN        776.860000      NaN         4138.64000   \n",
      "std      29.011492       NaN       6542.582099      NaN         2526.40978   \n",
      "min       1.000000       NaN         22.000000      NaN          498.00000   \n",
      "25%      25.750000       NaN         53.000000      NaN         1693.25000   \n",
      "50%      50.500000       NaN         80.000000      NaN         4096.00000   \n",
      "75%      75.250000       NaN        110.000000      NaN         5971.75000   \n",
      "max     100.000000       NaN      65535.000000      NaN         9765.00000   \n",
      "\n",
      "        threat_level  \n",
      "count     100.000000  \n",
      "unique           NaN  \n",
      "top              NaN  \n",
      "freq             NaN  \n",
      "mean        0.930000  \n",
      "std         0.781801  \n",
      "min         0.000000  \n",
      "25%         0.000000  \n",
      "50%         1.000000  \n",
      "75%         2.000000  \n",
      "max         2.000000  \n"
     ]
    }
   ],
   "source": [
    "print(df.describe(include='all'))"
   ]
  },
  {
   "cell_type": "code",
   "execution_count": 13,
   "id": "11bd6c1b-963f-4be3-97fb-d58f4b918e2c",
   "metadata": {},
   "outputs": [],
   "source": [
    "from sklearn.preprocessing import OneHotEncoder\n",
    "\n",
    "encoder = OneHotEncoder(handle_unknown='ignore', sparse_output=False)\n",
    "encoded = encoder.fit_transform(df[['protocol']])\n",
    "\n",
    "encoded_df = pd.DataFrame(encoded, columns=encoder.get_feature_names_out(['protocol']))\n",
    "df = pd.concat([df.drop('protocol', axis=1), encoded_df], axis=1)"
   ]
  },
  {
   "cell_type": "code",
   "execution_count": 15,
   "id": "ef89b0c4-1910-49b3-a9db-9b95a6dd39bc",
   "metadata": {},
   "outputs": [
    {
     "name": "stdout",
     "output_type": "stream",
     "text": [
      "    log_id       source_ip  destination_port  bytes_transferred  threat_level  \\\n",
      "0       10      10.0.0.100              80.0             4096.0           1.0   \n",
      "1       12  172.16.254.100             110.0             4096.0           1.0   \n",
      "2       27  172.16.254.200             110.0             4096.0           1.0   \n",
      "3        1   192.168.1.100              80.0             1024.0           0.0   \n",
      "4        2    192.168.1.81              53.0             9765.0           0.0   \n",
      "5        3   192.168.1.147              80.0             1296.0           1.0   \n",
      "6        4    192.168.1.94              22.0             7185.0           0.0   \n",
      "7        5    192.168.1.55             110.0             5088.0           2.0   \n",
      "8        6   192.168.1.171             443.0             5989.0           2.0   \n",
      "9        7   192.168.1.196              22.0             3166.0           2.0   \n",
      "10       8    192.168.1.67             443.0             8279.0           1.0   \n",
      "11       9    192.168.1.66              22.0             6124.0           0.0   \n",
      "12      11    192.168.1.55              80.0             1003.0           1.0   \n",
      "13      13    192.168.1.84              80.0             4138.0           2.0   \n",
      "14      14   192.168.1.160              80.0             7480.0           0.0   \n",
      "15      15   192.168.1.232              22.0             6571.0           1.0   \n",
      "16      16     172.16.1.75              80.0             1024.0           0.0   \n",
      "17      17   192.168.1.184              53.0             6899.0           2.0   \n",
      "18      18    192.168.1.57              53.0             8014.0           2.0   \n",
      "19      19    192.168.1.64             110.0             1501.0           0.0   \n",
      "20      20    192.168.1.97              80.0             2965.0           2.0   \n",
      "21      21    192.168.1.55              25.0             1479.0           1.0   \n",
      "22      22    192.168.1.44              80.0             1629.0           2.0   \n",
      "23      23   192.168.1.166              22.0             8243.0           1.0   \n",
      "24      24   192.168.1.220              53.0             6843.0           2.0   \n",
      "\n",
      "    protocol_DNS  protocol_FTP  protocol_HTTP  protocol_HTTPS  protocol_POP3  \\\n",
      "0            0.0           1.0            0.0             0.0            0.0   \n",
      "1            0.0           0.0            0.0             0.0            1.0   \n",
      "2            0.0           0.0            0.0             0.0            1.0   \n",
      "3            0.0           0.0            1.0             0.0            0.0   \n",
      "4            0.0           0.0            0.0             0.0            0.0   \n",
      "5            0.0           0.0            0.0             0.0            0.0   \n",
      "6            0.0           0.0            0.0             0.0            1.0   \n",
      "7            1.0           0.0            0.0             0.0            0.0   \n",
      "8            0.0           0.0            0.0             1.0            0.0   \n",
      "9            0.0           0.0            0.0             0.0            0.0   \n",
      "10           0.0           0.0            1.0             0.0            0.0   \n",
      "11           0.0           0.0            0.0             0.0            0.0   \n",
      "12           0.0           0.0            0.0             0.0            0.0   \n",
      "13           1.0           0.0            0.0             0.0            0.0   \n",
      "14           0.0           0.0            1.0             0.0            0.0   \n",
      "15           0.0           0.0            0.0             0.0            0.0   \n",
      "16           0.0           0.0            1.0             0.0            0.0   \n",
      "17           0.0           0.0            1.0             0.0            0.0   \n",
      "18           0.0           0.0            0.0             1.0            0.0   \n",
      "19           0.0           0.0            0.0             0.0            1.0   \n",
      "20           0.0           0.0            0.0             0.0            0.0   \n",
      "21           1.0           0.0            0.0             0.0            0.0   \n",
      "22           0.0           1.0            0.0             0.0            0.0   \n",
      "23           0.0           0.0            1.0             0.0            0.0   \n",
      "24           0.0           0.0            0.0             0.0            0.0   \n",
      "\n",
      "    protocol_SMTP  protocol_SSH  protocol_TLS  protocol_UDP  \n",
      "0             0.0           0.0           0.0           0.0  \n",
      "1             0.0           0.0           0.0           0.0  \n",
      "2             0.0           0.0           0.0           0.0  \n",
      "3             0.0           0.0           0.0           0.0  \n",
      "4             0.0           0.0           1.0           0.0  \n",
      "5             0.0           1.0           0.0           0.0  \n",
      "6             0.0           0.0           0.0           0.0  \n",
      "7             0.0           0.0           0.0           0.0  \n",
      "8             0.0           0.0           0.0           0.0  \n",
      "9             1.0           0.0           0.0           0.0  \n",
      "10            0.0           0.0           0.0           0.0  \n",
      "11            0.0           1.0           0.0           0.0  \n",
      "12            0.0           0.0           1.0           0.0  \n",
      "13            0.0           0.0           0.0           0.0  \n",
      "14            0.0           0.0           0.0           0.0  \n",
      "15            1.0           0.0           0.0           0.0  \n",
      "16            0.0           0.0           0.0           0.0  \n",
      "17            0.0           0.0           0.0           0.0  \n",
      "18            0.0           0.0           0.0           0.0  \n",
      "19            0.0           0.0           0.0           0.0  \n",
      "20            0.0           1.0           0.0           0.0  \n",
      "21            0.0           0.0           0.0           0.0  \n",
      "22            0.0           0.0           0.0           0.0  \n",
      "23            0.0           0.0           0.0           0.0  \n",
      "24            0.0           0.0           0.0           1.0  \n"
     ]
    }
   ],
   "source": [
    "print(df.head(25))"
   ]
  },
  {
   "cell_type": "code",
   "execution_count": 16,
   "id": "f47d1731-acd1-4e39-8119-9b434754971e",
   "metadata": {},
   "outputs": [],
   "source": [
    "import numpy as np\n",
    "\n",
    "# Apply logarithmic transformation to a skewed feature to reduce its skewness\n",
    "df[\"bytes_transferred\"] = np.log1p(df[\"bytes_transferred\"])  # Add 1 to avoid log(0)"
   ]
  },
  {
   "cell_type": "code",
   "execution_count": 17,
   "id": "ff7fdcf4-686e-41fb-a039-673fd1e6caed",
   "metadata": {},
   "outputs": [
    {
     "name": "stdout",
     "output_type": "stream",
     "text": [
      "0     8.318010\n",
      "1     8.318010\n",
      "2     8.318010\n",
      "3     6.932448\n",
      "4     9.186662\n",
      "        ...   \n",
      "95    8.318010\n",
      "96    8.378391\n",
      "97    7.625107\n",
      "98    9.112728\n",
      "99    7.309881\n",
      "Name: bytes_transferred, Length: 100, dtype: float64\n"
     ]
    }
   ],
   "source": [
    "print(df[\"bytes_transferred\"])"
   ]
  },
  {
   "cell_type": "code",
   "execution_count": 20,
   "id": "fd32c8a8-65a0-4617-8a99-caa3f03da815",
   "metadata": {},
   "outputs": [
    {
     "data": {
      "image/png": "[encoded data removed]",
      "text/plain": [
       "<Figure size 1000x600 with 1 Axes>"
      ]
     },
     "metadata": {},
     "output_type": "display_data"
    }
   ],
   "source": [
    "import matplotlib.pyplot as plt\n",
    "\n",
    "value_counts = df[\"bytes_transferred\"].value_counts().sort_index()\n",
    "\n",
    "plt.figure(figsize=(10,6))\n",
    "plt.bar(value_counts.index, value_counts.values, color='steelblue',edgecolor='red')\n",
    "plt.title(\"Count of Each Bytes Transferred Value\")\n",
    "plt.xlabel(\"Bytes Transferred\")\n",
    "plt.ylabel(\"Count\")\n",
    "plt.tight_layout()\n",
    "plt.show()\n"
   ]
  },
  {
   "cell_type": "code",
   "execution_count": 19,
   "id": "cd3de98d-a856-4bf0-ad5e-44f24d8e6a98",
   "metadata": {},
   "outputs": [
    {
     "data": {
      "image/png": "[encoded data removed]",
      "text/plain": [
       "<Figure size 1000x600 with 1 Axes>"
      ]
     },
     "metadata": {},
     "output_type": "display_data"
    }
   ],
   "source": [
    "import matplotlib.pyplot as plt\n",
    "\n",
    "plt.figure(figsize=(10,6))\n",
    "plt.hist(df[\"bytes_transferred\"], bins=30, color='skyblue', edgecolor='black')\n",
    "plt.title(\"Distribution of Bytes Transferred\")\n",
    "plt.xlabel(\"Bytes Transferred\")\n",
    "plt.ylabel(\"Count\")\n",
    "plt.tight_layout()\n",
    "plt.show()\n"
   ]
  },
  {
   "cell_type": "code",
   "execution_count": 1,
   "id": "c41f0f4b-b87f-4f18-8cc5-90daf61c193b",
   "metadata": {},
   "outputs": [
    {
     "ename": "ImportError",
     "evalue": "DLL load failed while importing _mt19937: An Application Control policy has blocked this file.",
     "output_type": "error",
     "traceback": [
      "\u001b[31m---------------------------------------------------------------------------\u001b[39m",
      "\u001b[31mImportError\u001b[39m                               Traceback (most recent call last)",
      "\u001b[36mCell\u001b[39m\u001b[36m \u001b[39m\u001b[32mIn[1]\u001b[39m\u001b[32m, line 1\u001b[39m\n\u001b[32m----> \u001b[39m\u001b[32m1\u001b[39m \u001b[38;5;28;01mfrom\u001b[39;00m\u001b[38;5;250m \u001b[39m\u001b[34;01msklearn\u001b[39;00m\u001b[34;01m.\u001b[39;00m\u001b[34;01mmodel_selection\u001b[39;00m\u001b[38;5;250m \u001b[39m\u001b[38;5;28;01mimport\u001b[39;00m train_test_split\n\u001b[32m      3\u001b[39m \u001b[38;5;66;03m# Separate features (X) and target (y)\u001b[39;00m\n\u001b[32m      4\u001b[39m X = df.drop(\u001b[33m\"\u001b[39m\u001b[33mthreat_level\u001b[39m\u001b[33m\"\u001b[39m, axis=\u001b[32m1\u001b[39m)\n",
      "\u001b[36mFile \u001b[39m\u001b[32m~\\scoop\\apps\\miniconda3\\current\\envs\\htbai\\Lib\\site-packages\\sklearn\\__init__.py:73\u001b[39m\n\u001b[32m     62\u001b[39m \u001b[38;5;66;03m# `_distributor_init` allows distributors to run custom init code.\u001b[39;00m\n\u001b[32m     63\u001b[39m \u001b[38;5;66;03m# For instance, for the Windows wheel, this is used to pre-load the\u001b[39;00m\n\u001b[32m     64\u001b[39m \u001b[38;5;66;03m# vcomp shared library runtime for OpenMP embedded in the sklearn/.libs\u001b[39;00m\n\u001b[32m   (...)\u001b[39m\u001b[32m     67\u001b[39m \u001b[38;5;66;03m# later is linked to the OpenMP runtime to make it possible to introspect\u001b[39;00m\n\u001b[32m     68\u001b[39m \u001b[38;5;66;03m# it and importing it first would fail if the OpenMP dll cannot be found.\u001b[39;00m\n\u001b[32m     69\u001b[39m \u001b[38;5;28;01mfrom\u001b[39;00m\u001b[38;5;250m \u001b[39m\u001b[34;01m.\u001b[39;00m\u001b[38;5;250m \u001b[39m\u001b[38;5;28;01mimport\u001b[39;00m (  \u001b[38;5;66;03m# noqa: F401 E402\u001b[39;00m\n\u001b[32m     70\u001b[39m     __check_build,\n\u001b[32m     71\u001b[39m     _distributor_init,\n\u001b[32m     72\u001b[39m )\n\u001b[32m---> \u001b[39m\u001b[32m73\u001b[39m \u001b[38;5;28;01mfrom\u001b[39;00m\u001b[38;5;250m \u001b[39m\u001b[34;01m.\u001b[39;00m\u001b[34;01mbase\u001b[39;00m\u001b[38;5;250m \u001b[39m\u001b[38;5;28;01mimport\u001b[39;00m clone  \u001b[38;5;66;03m# noqa: E402\u001b[39;00m\n\u001b[32m     74\u001b[39m \u001b[38;5;28;01mfrom\u001b[39;00m\u001b[38;5;250m \u001b[39m\u001b[34;01m.\u001b[39;00m\u001b[34;01mutils\u001b[39;00m\u001b[34;01m.\u001b[39;00m\u001b[34;01m_show_versions\u001b[39;00m\u001b[38;5;250m \u001b[39m\u001b[38;5;28;01mimport\u001b[39;00m show_versions  \u001b[38;5;66;03m# noqa: E402\u001b[39;00m\n\u001b[32m     76\u001b[39m _submodules = [\n\u001b[32m     77\u001b[39m     \u001b[33m\"\u001b[39m\u001b[33mcalibration\u001b[39m\u001b[33m\"\u001b[39m,\n\u001b[32m     78\u001b[39m     \u001b[33m\"\u001b[39m\u001b[33mcluster\u001b[39m\u001b[33m\"\u001b[39m,\n\u001b[32m   (...)\u001b[39m\u001b[32m    114\u001b[39m     \u001b[33m\"\u001b[39m\u001b[33mcompose\u001b[39m\u001b[33m\"\u001b[39m,\n\u001b[32m    115\u001b[39m ]\n",
      "\u001b[36mFile \u001b[39m\u001b[32m~\\scoop\\apps\\miniconda3\\current\\envs\\htbai\\Lib\\site-packages\\sklearn\\base.py:19\u001b[39m\n\u001b[32m     17\u001b[39m \u001b[38;5;28;01mfrom\u001b[39;00m\u001b[38;5;250m \u001b[39m\u001b[34;01m.\u001b[39;00m\u001b[34;01m_config\u001b[39;00m\u001b[38;5;250m \u001b[39m\u001b[38;5;28;01mimport\u001b[39;00m config_context, get_config\n\u001b[32m     18\u001b[39m \u001b[38;5;28;01mfrom\u001b[39;00m\u001b[38;5;250m \u001b[39m\u001b[34;01m.\u001b[39;00m\u001b[34;01mexceptions\u001b[39;00m\u001b[38;5;250m \u001b[39m\u001b[38;5;28;01mimport\u001b[39;00m InconsistentVersionWarning\n\u001b[32m---> \u001b[39m\u001b[32m19\u001b[39m \u001b[38;5;28;01mfrom\u001b[39;00m\u001b[38;5;250m \u001b[39m\u001b[34;01m.\u001b[39;00m\u001b[34;01mutils\u001b[39;00m\u001b[34;01m.\u001b[39;00m\u001b[34;01m_estimator_html_repr\u001b[39;00m\u001b[38;5;250m \u001b[39m\u001b[38;5;28;01mimport\u001b[39;00m _HTMLDocumentationLinkMixin, estimator_html_repr\n\u001b[32m     20\u001b[39m \u001b[38;5;28;01mfrom\u001b[39;00m\u001b[38;5;250m \u001b[39m\u001b[34;01m.\u001b[39;00m\u001b[34;01mutils\u001b[39;00m\u001b[34;01m.\u001b[39;00m\u001b[34;01m_metadata_requests\u001b[39;00m\u001b[38;5;250m \u001b[39m\u001b[38;5;28;01mimport\u001b[39;00m _MetadataRequester, _routing_enabled\n\u001b[32m     21\u001b[39m \u001b[38;5;28;01mfrom\u001b[39;00m\u001b[38;5;250m \u001b[39m\u001b[34;01m.\u001b[39;00m\u001b[34;01mutils\u001b[39;00m\u001b[34;01m.\u001b[39;00m\u001b[34;01m_param_validation\u001b[39;00m\u001b[38;5;250m \u001b[39m\u001b[38;5;28;01mimport\u001b[39;00m validate_parameter_constraints\n",
      "\u001b[36mFile \u001b[39m\u001b[32m~\\scoop\\apps\\miniconda3\\current\\envs\\htbai\\Lib\\site-packages\\sklearn\\utils\\__init__.py:15\u001b[39m\n\u001b[32m     13\u001b[39m \u001b[38;5;28;01mfrom\u001b[39;00m\u001b[38;5;250m \u001b[39m\u001b[34;01m.\u001b[39;00m\u001b[38;5;250m \u001b[39m\u001b[38;5;28;01mimport\u001b[39;00m _joblib, metadata_routing\n\u001b[32m     14\u001b[39m \u001b[38;5;28;01mfrom\u001b[39;00m\u001b[38;5;250m \u001b[39m\u001b[34;01m.\u001b[39;00m\u001b[34;01m_bunch\u001b[39;00m\u001b[38;5;250m \u001b[39m\u001b[38;5;28;01mimport\u001b[39;00m Bunch\n\u001b[32m---> \u001b[39m\u001b[32m15\u001b[39m \u001b[38;5;28;01mfrom\u001b[39;00m\u001b[38;5;250m \u001b[39m\u001b[34;01m.\u001b[39;00m\u001b[34;01m_chunking\u001b[39;00m\u001b[38;5;250m \u001b[39m\u001b[38;5;28;01mimport\u001b[39;00m gen_batches, gen_even_slices\n\u001b[32m     16\u001b[39m \u001b[38;5;28;01mfrom\u001b[39;00m\u001b[38;5;250m \u001b[39m\u001b[34;01m.\u001b[39;00m\u001b[34;01m_estimator_html_repr\u001b[39;00m\u001b[38;5;250m \u001b[39m\u001b[38;5;28;01mimport\u001b[39;00m estimator_html_repr\n\u001b[32m     18\u001b[39m \u001b[38;5;66;03m# Make _safe_indexing importable from here for backward compat as this particular\u001b[39;00m\n\u001b[32m     19\u001b[39m \u001b[38;5;66;03m# helper is considered semi-private and typically very useful for third-party\u001b[39;00m\n\u001b[32m     20\u001b[39m \u001b[38;5;66;03m# libraries that want to comply with scikit-learn's estimator API. In particular,\u001b[39;00m\n\u001b[32m     21\u001b[39m \u001b[38;5;66;03m# _safe_indexing was included in our public API documentation despite the leading\u001b[39;00m\n\u001b[32m     22\u001b[39m \u001b[38;5;66;03m# `_` in its name.\u001b[39;00m\n",
      "\u001b[36mFile \u001b[39m\u001b[32m~\\scoop\\apps\\miniconda3\\current\\envs\\htbai\\Lib\\site-packages\\sklearn\\utils\\_chunking.py:11\u001b[39m\n\u001b[32m      8\u001b[39m \u001b[38;5;28;01mimport\u001b[39;00m\u001b[38;5;250m \u001b[39m\u001b[34;01mnumpy\u001b[39;00m\u001b[38;5;250m \u001b[39m\u001b[38;5;28;01mas\u001b[39;00m\u001b[38;5;250m \u001b[39m\u001b[34;01mnp\u001b[39;00m\n\u001b[32m     10\u001b[39m \u001b[38;5;28;01mfrom\u001b[39;00m\u001b[38;5;250m \u001b[39m\u001b[34;01m.\u001b[39;00m\u001b[34;01m.\u001b[39;00m\u001b[34;01m_config\u001b[39;00m\u001b[38;5;250m \u001b[39m\u001b[38;5;28;01mimport\u001b[39;00m get_config\n\u001b[32m---> \u001b[39m\u001b[32m11\u001b[39m \u001b[38;5;28;01mfrom\u001b[39;00m\u001b[38;5;250m \u001b[39m\u001b[34;01m.\u001b[39;00m\u001b[34;01m_param_validation\u001b[39;00m\u001b[38;5;250m \u001b[39m\u001b[38;5;28;01mimport\u001b[39;00m Interval, validate_params\n\u001b[32m     14\u001b[39m \u001b[38;5;28;01mdef\u001b[39;00m\u001b[38;5;250m \u001b[39m\u001b[34mchunk_generator\u001b[39m(gen, chunksize):\n\u001b[32m     15\u001b[39m \u001b[38;5;250m    \u001b[39m\u001b[33;03m\"\"\"Chunk generator, ``gen`` into lists of length ``chunksize``. The last\u001b[39;00m\n\u001b[32m     16\u001b[39m \u001b[33;03m    chunk may have a length less than ``chunksize``.\"\"\"\u001b[39;00m\n",
      "\u001b[36mFile \u001b[39m\u001b[32m~\\scoop\\apps\\miniconda3\\current\\envs\\htbai\\Lib\\site-packages\\sklearn\\utils\\_param_validation.py:14\u001b[39m\n\u001b[32m     11\u001b[39m \u001b[38;5;28;01mfrom\u001b[39;00m\u001b[38;5;250m \u001b[39m\u001b[34;01mnumbers\u001b[39;00m\u001b[38;5;250m \u001b[39m\u001b[38;5;28;01mimport\u001b[39;00m Integral, Real\n\u001b[32m     13\u001b[39m \u001b[38;5;28;01mimport\u001b[39;00m\u001b[38;5;250m \u001b[39m\u001b[34;01mnumpy\u001b[39;00m\u001b[38;5;250m \u001b[39m\u001b[38;5;28;01mas\u001b[39;00m\u001b[38;5;250m \u001b[39m\u001b[34;01mnp\u001b[39;00m\n\u001b[32m---> \u001b[39m\u001b[32m14\u001b[39m \u001b[38;5;28;01mfrom\u001b[39;00m\u001b[38;5;250m \u001b[39m\u001b[34;01mscipy\u001b[39;00m\u001b[34;01m.\u001b[39;00m\u001b[34;01msparse\u001b[39;00m\u001b[38;5;250m \u001b[39m\u001b[38;5;28;01mimport\u001b[39;00m csr_matrix, issparse\n\u001b[32m     16\u001b[39m \u001b[38;5;28;01mfrom\u001b[39;00m\u001b[38;5;250m \u001b[39m\u001b[34;01m.\u001b[39;00m\u001b[34;01m.\u001b[39;00m\u001b[34;01m_config\u001b[39;00m\u001b[38;5;250m \u001b[39m\u001b[38;5;28;01mimport\u001b[39;00m config_context, get_config\n\u001b[32m     17\u001b[39m \u001b[38;5;28;01mfrom\u001b[39;00m\u001b[38;5;250m \u001b[39m\u001b[34;01m.\u001b[39;00m\u001b[34;01mvalidation\u001b[39;00m\u001b[38;5;250m \u001b[39m\u001b[38;5;28;01mimport\u001b[39;00m _is_arraylike_not_scalar\n",
      "\u001b[36mFile \u001b[39m\u001b[32m~\\scoop\\apps\\miniconda3\\current\\envs\\htbai\\Lib\\site-packages\\scipy\\sparse\\__init__.py:300\u001b[39m\n\u001b[32m    294\u001b[39m \u001b[38;5;66;03m# Original code by Travis Oliphant.\u001b[39;00m\n\u001b[32m    295\u001b[39m \u001b[38;5;66;03m# Modified and extended by Ed Schofield, Robert Cimrman,\u001b[39;00m\n\u001b[32m    296\u001b[39m \u001b[38;5;66;03m# Nathan Bell, and Jake Vanderplas.\u001b[39;00m\n\u001b[32m    298\u001b[39m \u001b[38;5;28;01mimport\u001b[39;00m\u001b[38;5;250m \u001b[39m\u001b[34;01mwarnings\u001b[39;00m\u001b[38;5;250m \u001b[39m\u001b[38;5;28;01mas\u001b[39;00m\u001b[38;5;250m \u001b[39m\u001b[34;01m_warnings\u001b[39;00m\n\u001b[32m--> \u001b[39m\u001b[32m300\u001b[39m \u001b[38;5;28;01mfrom\u001b[39;00m\u001b[38;5;250m \u001b[39m\u001b[34;01m.\u001b[39;00m\u001b[34;01m_base\u001b[39;00m\u001b[38;5;250m \u001b[39m\u001b[38;5;28;01mimport\u001b[39;00m *\n\u001b[32m    301\u001b[39m \u001b[38;5;28;01mfrom\u001b[39;00m\u001b[38;5;250m \u001b[39m\u001b[34;01m.\u001b[39;00m\u001b[34;01m_csr\u001b[39;00m\u001b[38;5;250m \u001b[39m\u001b[38;5;28;01mimport\u001b[39;00m *\n\u001b[32m    302\u001b[39m \u001b[38;5;28;01mfrom\u001b[39;00m\u001b[38;5;250m \u001b[39m\u001b[34;01m.\u001b[39;00m\u001b[34;01m_csc\u001b[39;00m\u001b[38;5;250m \u001b[39m\u001b[38;5;28;01mimport\u001b[39;00m *\n",
      "\u001b[36mFile \u001b[39m\u001b[32m~\\scoop\\apps\\miniconda3\\current\\envs\\htbai\\Lib\\site-packages\\scipy\\sparse\\_base.py:5\u001b[39m\n\u001b[32m      1\u001b[39m \u001b[33;03m\"\"\"Base class for sparse matrices\"\"\"\u001b[39;00m\n\u001b[32m      3\u001b[39m \u001b[38;5;28;01mimport\u001b[39;00m\u001b[38;5;250m \u001b[39m\u001b[34;01mnumpy\u001b[39;00m\u001b[38;5;250m \u001b[39m\u001b[38;5;28;01mas\u001b[39;00m\u001b[38;5;250m \u001b[39m\u001b[34;01mnp\u001b[39;00m\n\u001b[32m----> \u001b[39m\u001b[32m5\u001b[39m \u001b[38;5;28;01mfrom\u001b[39;00m\u001b[38;5;250m \u001b[39m\u001b[34;01m.\u001b[39;00m\u001b[34;01m_sputils\u001b[39;00m\u001b[38;5;250m \u001b[39m\u001b[38;5;28;01mimport\u001b[39;00m (asmatrix, check_reshape_kwargs, check_shape,\n\u001b[32m      6\u001b[39m                        get_sum_dtype, isdense, isscalarlike,\n\u001b[32m      7\u001b[39m                        matrix, validateaxis, getdtype)\n\u001b[32m      9\u001b[39m \u001b[38;5;28;01mfrom\u001b[39;00m\u001b[38;5;250m \u001b[39m\u001b[34;01m.\u001b[39;00m\u001b[34;01m_matrix\u001b[39;00m\u001b[38;5;250m \u001b[39m\u001b[38;5;28;01mimport\u001b[39;00m spmatrix\n\u001b[32m     11\u001b[39m __all__ = [\u001b[33m'\u001b[39m\u001b[33misspmatrix\u001b[39m\u001b[33m'\u001b[39m, \u001b[33m'\u001b[39m\u001b[33missparse\u001b[39m\u001b[33m'\u001b[39m, \u001b[33m'\u001b[39m\u001b[33msparray\u001b[39m\u001b[33m'\u001b[39m,\n\u001b[32m     12\u001b[39m            \u001b[33m'\u001b[39m\u001b[33mSparseWarning\u001b[39m\u001b[33m'\u001b[39m, \u001b[33m'\u001b[39m\u001b[33mSparseEfficiencyWarning\u001b[39m\u001b[33m'\u001b[39m]\n",
      "\u001b[36mFile \u001b[39m\u001b[32m~\\scoop\\apps\\miniconda3\\current\\envs\\htbai\\Lib\\site-packages\\scipy\\sparse\\_sputils.py:10\u001b[39m\n\u001b[32m      8\u001b[39m \u001b[38;5;28;01mfrom\u001b[39;00m\u001b[38;5;250m \u001b[39m\u001b[34;01mmath\u001b[39;00m\u001b[38;5;250m \u001b[39m\u001b[38;5;28;01mimport\u001b[39;00m prod\n\u001b[32m      9\u001b[39m \u001b[38;5;28;01mimport\u001b[39;00m\u001b[38;5;250m \u001b[39m\u001b[34;01mscipy\u001b[39;00m\u001b[34;01m.\u001b[39;00m\u001b[34;01msparse\u001b[39;00m\u001b[38;5;250m \u001b[39m\u001b[38;5;28;01mas\u001b[39;00m\u001b[38;5;250m \u001b[39m\u001b[34;01msp\u001b[39;00m\n\u001b[32m---> \u001b[39m\u001b[32m10\u001b[39m \u001b[38;5;28;01mfrom\u001b[39;00m\u001b[38;5;250m \u001b[39m\u001b[34;01mscipy\u001b[39;00m\u001b[34;01m.\u001b[39;00m\u001b[34;01m_lib\u001b[39;00m\u001b[34;01m.\u001b[39;00m\u001b[34;01m_util\u001b[39;00m\u001b[38;5;250m \u001b[39m\u001b[38;5;28;01mimport\u001b[39;00m np_long, np_ulong\n\u001b[32m     13\u001b[39m __all__ = [\u001b[33m'\u001b[39m\u001b[33mupcast\u001b[39m\u001b[33m'\u001b[39m, \u001b[33m'\u001b[39m\u001b[33mgetdtype\u001b[39m\u001b[33m'\u001b[39m, \u001b[33m'\u001b[39m\u001b[33mgetdata\u001b[39m\u001b[33m'\u001b[39m, \u001b[33m'\u001b[39m\u001b[33misscalarlike\u001b[39m\u001b[33m'\u001b[39m, \u001b[33m'\u001b[39m\u001b[33misintlike\u001b[39m\u001b[33m'\u001b[39m,\n\u001b[32m     14\u001b[39m            \u001b[33m'\u001b[39m\u001b[33misshape\u001b[39m\u001b[33m'\u001b[39m, \u001b[33m'\u001b[39m\u001b[33missequence\u001b[39m\u001b[33m'\u001b[39m, \u001b[33m'\u001b[39m\u001b[33misdense\u001b[39m\u001b[33m'\u001b[39m, \u001b[33m'\u001b[39m\u001b[33mismatrix\u001b[39m\u001b[33m'\u001b[39m, \u001b[33m'\u001b[39m\u001b[33mget_sum_dtype\u001b[39m\u001b[33m'\u001b[39m,\n\u001b[32m     15\u001b[39m            \u001b[33m'\u001b[39m\u001b[33mbroadcast_shapes\u001b[39m\u001b[33m'\u001b[39m]\n\u001b[32m     17\u001b[39m supported_dtypes = [np.bool_, np.byte, np.ubyte, np.short, np.ushort, np.intc,\n\u001b[32m     18\u001b[39m                     np.uintc, np_long, np_ulong, np.longlong, np.ulonglong,\n\u001b[32m     19\u001b[39m                     np.float32, np.float64, np.longdouble,\n\u001b[32m     20\u001b[39m                     np.complex64, np.complex128, np.clongdouble]\n",
      "\u001b[36mFile \u001b[39m\u001b[32m~\\scoop\\apps\\miniconda3\\current\\envs\\htbai\\Lib\\site-packages\\scipy\\_lib\\_util.py:13\u001b[39m\n\u001b[32m     10\u001b[39m \u001b[38;5;28;01mfrom\u001b[39;00m\u001b[38;5;250m \u001b[39m\u001b[34;01mtyping\u001b[39;00m\u001b[38;5;250m \u001b[39m\u001b[38;5;28;01mimport\u001b[39;00m TypeAlias, TypeVar\n\u001b[32m     12\u001b[39m \u001b[38;5;28;01mimport\u001b[39;00m\u001b[38;5;250m \u001b[39m\u001b[34;01mnumpy\u001b[39;00m\u001b[38;5;250m \u001b[39m\u001b[38;5;28;01mas\u001b[39;00m\u001b[38;5;250m \u001b[39m\u001b[34;01mnp\u001b[39;00m\n\u001b[32m---> \u001b[39m\u001b[32m13\u001b[39m \u001b[38;5;28;01mfrom\u001b[39;00m\u001b[38;5;250m \u001b[39m\u001b[34;01mscipy\u001b[39;00m\u001b[34;01m.\u001b[39;00m\u001b[34;01m_lib\u001b[39;00m\u001b[34;01m.\u001b[39;00m\u001b[34;01m_array_api\u001b[39;00m\u001b[38;5;250m \u001b[39m\u001b[38;5;28;01mimport\u001b[39;00m array_namespace, is_numpy, xp_size\n\u001b[32m     14\u001b[39m \u001b[38;5;28;01mfrom\u001b[39;00m\u001b[38;5;250m \u001b[39m\u001b[34;01mscipy\u001b[39;00m\u001b[34;01m.\u001b[39;00m\u001b[34;01m_lib\u001b[39;00m\u001b[34;01m.\u001b[39;00m\u001b[34;01m_docscrape\u001b[39;00m\u001b[38;5;250m \u001b[39m\u001b[38;5;28;01mimport\u001b[39;00m FunctionDoc, Parameter\n\u001b[32m     17\u001b[39m AxisError: \u001b[38;5;28mtype\u001b[39m[\u001b[38;5;167;01mException\u001b[39;00m]\n",
      "\u001b[36mFile \u001b[39m\u001b[32m~\\scoop\\apps\\miniconda3\\current\\envs\\htbai\\Lib\\site-packages\\scipy\\_lib\\_array_api.py:18\u001b[39m\n\u001b[32m     15\u001b[39m \u001b[38;5;28;01mimport\u001b[39;00m\u001b[38;5;250m \u001b[39m\u001b[34;01mnumpy\u001b[39;00m\u001b[34;01m.\u001b[39;00m\u001b[34;01mtyping\u001b[39;00m\u001b[38;5;250m \u001b[39m\u001b[38;5;28;01mas\u001b[39;00m\u001b[38;5;250m \u001b[39m\u001b[34;01mnpt\u001b[39;00m\n\u001b[32m     17\u001b[39m \u001b[38;5;28;01mfrom\u001b[39;00m\u001b[38;5;250m \u001b[39m\u001b[34;01mscipy\u001b[39;00m\u001b[34;01m.\u001b[39;00m\u001b[34;01m_lib\u001b[39;00m\u001b[38;5;250m \u001b[39m\u001b[38;5;28;01mimport\u001b[39;00m array_api_compat\n\u001b[32m---> \u001b[39m\u001b[32m18\u001b[39m \u001b[38;5;28;01mfrom\u001b[39;00m\u001b[38;5;250m \u001b[39m\u001b[34;01mscipy\u001b[39;00m\u001b[34;01m.\u001b[39;00m\u001b[34;01m_lib\u001b[39;00m\u001b[34;01m.\u001b[39;00m\u001b[34;01marray_api_compat\u001b[39;00m\u001b[38;5;250m \u001b[39m\u001b[38;5;28;01mimport\u001b[39;00m (\n\u001b[32m     19\u001b[39m     is_array_api_obj,\n\u001b[32m     20\u001b[39m     size \u001b[38;5;28;01mas\u001b[39;00m xp_size,\n\u001b[32m     21\u001b[39m     numpy \u001b[38;5;28;01mas\u001b[39;00m np_compat,\n\u001b[32m     22\u001b[39m     device \u001b[38;5;28;01mas\u001b[39;00m xp_device,\n\u001b[32m     23\u001b[39m     is_numpy_namespace \u001b[38;5;28;01mas\u001b[39;00m is_numpy,\n\u001b[32m     24\u001b[39m     is_cupy_namespace \u001b[38;5;28;01mas\u001b[39;00m is_cupy,\n\u001b[32m     25\u001b[39m     is_torch_namespace \u001b[38;5;28;01mas\u001b[39;00m is_torch,\n\u001b[32m     26\u001b[39m     is_jax_namespace \u001b[38;5;28;01mas\u001b[39;00m is_jax,\n\u001b[32m     27\u001b[39m     is_array_api_strict_namespace \u001b[38;5;28;01mas\u001b[39;00m is_array_api_strict\n\u001b[32m     28\u001b[39m )\n\u001b[32m     30\u001b[39m __all__ = [\n\u001b[32m     31\u001b[39m     \u001b[33m'\u001b[39m\u001b[33m_asarray\u001b[39m\u001b[33m'\u001b[39m, \u001b[33m'\u001b[39m\u001b[33marray_namespace\u001b[39m\u001b[33m'\u001b[39m, \u001b[33m'\u001b[39m\u001b[33massert_almost_equal\u001b[39m\u001b[33m'\u001b[39m, \u001b[33m'\u001b[39m\u001b[33massert_array_almost_equal\u001b[39m\u001b[33m'\u001b[39m,\n\u001b[32m     32\u001b[39m     \u001b[33m'\u001b[39m\u001b[33mget_xp_devices\u001b[39m\u001b[33m'\u001b[39m,\n\u001b[32m   (...)\u001b[39m\u001b[32m     38\u001b[39m     \u001b[33m'\u001b[39m\u001b[33mxp_take_along_axis\u001b[39m\u001b[33m'\u001b[39m, \u001b[33m'\u001b[39m\u001b[33mxp_unsupported_param_msg\u001b[39m\u001b[33m'\u001b[39m, \u001b[33m'\u001b[39m\u001b[33mxp_vector_norm\u001b[39m\u001b[33m'\u001b[39m,\n\u001b[32m     39\u001b[39m ]\n\u001b[32m     42\u001b[39m \u001b[38;5;66;03m# To enable array API and strict array-like input validation\u001b[39;00m\n",
      "\u001b[36mFile \u001b[39m\u001b[32m~\\scoop\\apps\\miniconda3\\current\\envs\\htbai\\Lib\\site-packages\\scipy\\_lib\\array_api_compat\\numpy\\__init__.py:1\u001b[39m\n\u001b[32m----> \u001b[39m\u001b[32m1\u001b[39m \u001b[38;5;28;01mfrom\u001b[39;00m\u001b[38;5;250m \u001b[39m\u001b[34;01mnumpy\u001b[39;00m\u001b[38;5;250m \u001b[39m\u001b[38;5;28;01mimport\u001b[39;00m * \u001b[38;5;66;03m# noqa: F403\u001b[39;00m\n\u001b[32m      3\u001b[39m \u001b[38;5;66;03m# from numpy import * doesn't overwrite these builtin names\u001b[39;00m\n\u001b[32m      4\u001b[39m \u001b[38;5;28;01mfrom\u001b[39;00m\u001b[38;5;250m \u001b[39m\u001b[34;01mnumpy\u001b[39;00m\u001b[38;5;250m \u001b[39m\u001b[38;5;28;01mimport\u001b[39;00m \u001b[38;5;28mabs\u001b[39m, \u001b[38;5;28mmax\u001b[39m, \u001b[38;5;28mmin\u001b[39m, \u001b[38;5;28mround\u001b[39m \u001b[38;5;66;03m# noqa: F401\u001b[39;00m\n",
      "\u001b[36mFile \u001b[39m\u001b[32m~\\scoop\\apps\\miniconda3\\current\\envs\\htbai\\Lib\\site-packages\\numpy\\__init__.py:340\u001b[39m, in \u001b[36m__getattr__\u001b[39m\u001b[34m(attr)\u001b[39m\n\u001b[32m    338\u001b[39m     \u001b[38;5;28;01mreturn\u001b[39;00m dtypes\n\u001b[32m    339\u001b[39m \u001b[38;5;28;01melif\u001b[39;00m attr == \u001b[33m\"\u001b[39m\u001b[33mrandom\u001b[39m\u001b[33m\"\u001b[39m:\n\u001b[32m--> \u001b[39m\u001b[32m340\u001b[39m     \u001b[38;5;28;01mimport\u001b[39;00m\u001b[38;5;250m \u001b[39m\u001b[34;01mnumpy\u001b[39;00m\u001b[34;01m.\u001b[39;00m\u001b[34;01mrandom\u001b[39;00m\u001b[38;5;250m \u001b[39m\u001b[38;5;28;01mas\u001b[39;00m\u001b[38;5;250m \u001b[39m\u001b[34;01mrandom\u001b[39;00m\n\u001b[32m    341\u001b[39m     \u001b[38;5;28;01mreturn\u001b[39;00m random\n\u001b[32m    342\u001b[39m \u001b[38;5;28;01melif\u001b[39;00m attr == \u001b[33m\"\u001b[39m\u001b[33mpolynomial\u001b[39m\u001b[33m\"\u001b[39m:\n",
      "\u001b[36mFile \u001b[39m\u001b[32m~\\scoop\\apps\\miniconda3\\current\\envs\\htbai\\Lib\\site-packages\\numpy\\random\\__init__.py:180\u001b[39m\n\u001b[32m    126\u001b[39m __all__ = [\n\u001b[32m    127\u001b[39m     \u001b[33m'\u001b[39m\u001b[33mbeta\u001b[39m\u001b[33m'\u001b[39m,\n\u001b[32m    128\u001b[39m     \u001b[33m'\u001b[39m\u001b[33mbinomial\u001b[39m\u001b[33m'\u001b[39m,\n\u001b[32m   (...)\u001b[39m\u001b[32m    176\u001b[39m     \u001b[33m'\u001b[39m\u001b[33mzipf\u001b[39m\u001b[33m'\u001b[39m,\n\u001b[32m    177\u001b[39m ]\n\u001b[32m    179\u001b[39m \u001b[38;5;66;03m# add these for module-freeze analysis (like PyInstaller)\u001b[39;00m\n\u001b[32m--> \u001b[39m\u001b[32m180\u001b[39m \u001b[38;5;28;01mfrom\u001b[39;00m\u001b[38;5;250m \u001b[39m\u001b[34;01m.\u001b[39;00m\u001b[38;5;250m \u001b[39m\u001b[38;5;28;01mimport\u001b[39;00m _pickle\n\u001b[32m    181\u001b[39m \u001b[38;5;28;01mfrom\u001b[39;00m\u001b[38;5;250m \u001b[39m\u001b[34;01m.\u001b[39;00m\u001b[38;5;250m \u001b[39m\u001b[38;5;28;01mimport\u001b[39;00m _common\n\u001b[32m    182\u001b[39m \u001b[38;5;28;01mfrom\u001b[39;00m\u001b[38;5;250m \u001b[39m\u001b[34;01m.\u001b[39;00m\u001b[38;5;250m \u001b[39m\u001b[38;5;28;01mimport\u001b[39;00m _bounded_integers\n",
      "\u001b[36mFile \u001b[39m\u001b[32m~\\scoop\\apps\\miniconda3\\current\\envs\\htbai\\Lib\\site-packages\\numpy\\random\\_pickle.py:2\u001b[39m\n\u001b[32m      1\u001b[39m \u001b[38;5;28;01mfrom\u001b[39;00m\u001b[38;5;250m \u001b[39m\u001b[34;01m.\u001b[39;00m\u001b[34;01mbit_generator\u001b[39;00m\u001b[38;5;250m \u001b[39m\u001b[38;5;28;01mimport\u001b[39;00m BitGenerator\n\u001b[32m----> \u001b[39m\u001b[32m2\u001b[39m \u001b[38;5;28;01mfrom\u001b[39;00m\u001b[38;5;250m \u001b[39m\u001b[34;01m.\u001b[39;00m\u001b[34;01mmtrand\u001b[39;00m\u001b[38;5;250m \u001b[39m\u001b[38;5;28;01mimport\u001b[39;00m RandomState\n\u001b[32m      3\u001b[39m \u001b[38;5;28;01mfrom\u001b[39;00m\u001b[38;5;250m \u001b[39m\u001b[34;01m.\u001b[39;00m\u001b[34;01m_philox\u001b[39;00m\u001b[38;5;250m \u001b[39m\u001b[38;5;28;01mimport\u001b[39;00m Philox\n\u001b[32m      4\u001b[39m \u001b[38;5;28;01mfrom\u001b[39;00m\u001b[38;5;250m \u001b[39m\u001b[34;01m.\u001b[39;00m\u001b[34;01m_pcg64\u001b[39;00m\u001b[38;5;250m \u001b[39m\u001b[38;5;28;01mimport\u001b[39;00m PCG64, PCG64DXSM\n",
      "\u001b[36mFile \u001b[39m\u001b[32mnumpy\\\\random\\\\mtrand.pyx:19\u001b[39m, in \u001b[36minit numpy.random.mtrand\u001b[39m\u001b[34m()\u001b[39m\n",
      "\u001b[31mImportError\u001b[39m: DLL load failed while importing _mt19937: An Application Control policy has blocked this file."
     ]
    }
   ],
   "source": [
    "from sklearn.model_selection import train_test_split\n",
    "\n",
    "# Separate features (X) and target (y)\n",
    "X = df.drop(\"threat_level\", axis=1)\n",
    "y = df[\"threat_level\"]\n",
    "\n",
    "# Initial split: 80% training, 20% testing\n",
    "X_train, X_test, y_train, y_test = train_test_split(X, y, test_size=0.2, random_state=1337)\n",
    "\n",
    "# Second split: from the 80% training portion, allocate 60% for final training and 20% for validation\n",
    "X_train, X_val, y_train, y_val = train_test_split(X_train, y_train, test_size=0.25, random_state=1337)"
   ]
  },
  {
   "cell_type": "code",
   "execution_count": null,
   "id": "93b5f8d1-69dd-46dd-a590-f1b2afd2e218",
   "metadata": {},
   "outputs": [],
   "source": []
  }
 ],
 "metadata": {
  "kernelspec": {
   "display_name": "Python 3 (ipykernel)",
   "language": "python",
   "name": "python3"
  },
  "language_info": {
   "codemirror_mode": {
    "name": "ipython",
    "version": 3
   },
   "file_extension": ".py",
   "mimetype": "text/x-python",
   "name": "python",
   "nbconvert_exporter": "python",
   "pygments_lexer": "ipython3",
   "version": "3.11.11"
  }
 },
 "nbformat": 4,
 "nbformat_minor": 5
}
