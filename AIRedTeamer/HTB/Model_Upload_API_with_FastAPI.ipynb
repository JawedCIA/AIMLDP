{
 "cells": [
  {
   "cell_type": "markdown",
   "metadata": {},
   "source": [
    "# 📤 Model Upload API with FastAPI\n",
    "This notebook sets up a local FastAPI server to handle file uploads (e.g., spam detection models) and demonstrates how to upload a file to that endpoint."
   ]
  },
  {
   "cell_type": "code",
   "execution_count": 1,
   "metadata": {},
   "outputs": [
    {
     "name": "stdout",
     "output_type": "stream",
     "text": [
      "Requirement already satisfied: fastapi in c:\\users\\jawed\\scoop\\apps\\miniconda3\\current\\envs\\htbai\\lib\\site-packages (0.115.11)\n",
      "Requirement already satisfied: uvicorn in c:\\users\\jawed\\scoop\\apps\\miniconda3\\current\\envs\\htbai\\lib\\site-packages (0.34.0)\n",
      "Requirement already satisfied: requests in c:\\users\\jawed\\scoop\\apps\\miniconda3\\current\\envs\\htbai\\lib\\site-packages (2.32.3)\n",
      "Requirement already satisfied: nest_asyncio in c:\\users\\jawed\\scoop\\apps\\miniconda3\\current\\envs\\htbai\\lib\\site-packages (1.6.0)\n",
      "Requirement already satisfied: starlette<0.47.0,>=0.40.0 in c:\\users\\jawed\\scoop\\apps\\miniconda3\\current\\envs\\htbai\\lib\\site-packages (from fastapi) (0.46.1)\n",
      "Requirement already satisfied: pydantic!=1.8,!=1.8.1,!=2.0.0,!=2.0.1,!=2.1.0,<3.0.0,>=1.7.4 in c:\\users\\jawed\\scoop\\apps\\miniconda3\\current\\envs\\htbai\\lib\\site-packages (from fastapi) (2.10.6)\n",
      "Requirement already satisfied: typing-extensions>=4.8.0 in c:\\users\\jawed\\scoop\\apps\\miniconda3\\current\\envs\\htbai\\lib\\site-packages (from fastapi) (4.12.2)\n",
      "Requirement already satisfied: click>=7.0 in c:\\users\\jawed\\scoop\\apps\\miniconda3\\current\\envs\\htbai\\lib\\site-packages (from uvicorn) (8.1.8)\n",
      "Requirement already satisfied: h11>=0.8 in c:\\users\\jawed\\scoop\\apps\\miniconda3\\current\\envs\\htbai\\lib\\site-packages (from uvicorn) (0.14.0)\n",
      "Requirement already satisfied: charset_normalizer<4,>=2 in c:\\users\\jawed\\scoop\\apps\\miniconda3\\current\\envs\\htbai\\lib\\site-packages (from requests) (3.4.1)\n",
      "Requirement already satisfied: idna<4,>=2.5 in c:\\users\\jawed\\scoop\\apps\\miniconda3\\current\\envs\\htbai\\lib\\site-packages (from requests) (3.10)\n",
      "Requirement already satisfied: urllib3<3,>=1.21.1 in c:\\users\\jawed\\scoop\\apps\\miniconda3\\current\\envs\\htbai\\lib\\site-packages (from requests) (2.3.0)\n",
      "Requirement already satisfied: certifi>=2017.4.17 in c:\\users\\jawed\\scoop\\apps\\miniconda3\\current\\envs\\htbai\\lib\\site-packages (from requests) (2025.1.31)\n",
      "Requirement already satisfied: colorama in c:\\users\\jawed\\scoop\\apps\\miniconda3\\current\\envs\\htbai\\lib\\site-packages (from click>=7.0->uvicorn) (0.4.6)\n",
      "Requirement already satisfied: annotated-types>=0.6.0 in c:\\users\\jawed\\scoop\\apps\\miniconda3\\current\\envs\\htbai\\lib\\site-packages (from pydantic!=1.8,!=1.8.1,!=2.0.0,!=2.0.1,!=2.1.0,<3.0.0,>=1.7.4->fastapi) (0.7.0)\n",
      "Requirement already satisfied: pydantic-core==2.27.2 in c:\\users\\jawed\\scoop\\apps\\miniconda3\\current\\envs\\htbai\\lib\\site-packages (from pydantic!=1.8,!=1.8.1,!=2.0.0,!=2.0.1,!=2.1.0,<3.0.0,>=1.7.4->fastapi) (2.27.2)\n",
      "Requirement already satisfied: anyio<5,>=3.6.2 in c:\\users\\jawed\\scoop\\apps\\miniconda3\\current\\envs\\htbai\\lib\\site-packages (from starlette<0.47.0,>=0.40.0->fastapi) (4.8.0)\n",
      "Requirement already satisfied: sniffio>=1.1 in c:\\users\\jawed\\scoop\\apps\\miniconda3\\current\\envs\\htbai\\lib\\site-packages (from anyio<5,>=3.6.2->starlette<0.47.0,>=0.40.0->fastapi) (1.3.1)\n"
     ]
    }
   ],
   "source": [
    "# ✅ Install required packages\n",
    "!pip install fastapi uvicorn requests nest_asyncio"
   ]
  },
  {
   "cell_type": "code",
   "execution_count": 2,
   "metadata": {},
   "outputs": [],
   "source": [
    "# ⚙️ Setup FastAPI App\n",
    "# model_validation_dashboard.py\n",
    "\n",
    "from fastapi import FastAPI, File, UploadFile\n",
    "from fastapi.responses import HTMLResponse\n",
    "from joblib import load\n",
    "from sklearn.metrics import classification_report, confusion_matrix, accuracy_score\n",
    "import seaborn as sns\n",
    "import matplotlib.pyplot as plt\n",
    "import numpy as np\n",
    "import pandas as pd\n",
    "import os\n",
    "\n",
    "app = FastAPI()\n",
    "\n",
    "# Dummy test data for validation (replace with actual dataset)\n",
    "from sklearn.model_selection import train_test_split\n",
    "from sklearn.feature_extraction.text import CountVectorizer\n",
    "from sklearn.naive_bayes import MultinomialNB\n",
    "\n",
    "# Sample data\n",
    "X_data = [\"Congratulations! You have won a prize!\", \"Meeting at 10am tomorrow\", \"Free entry in a weekly contest!\", \"Lunch with team today\", \"Win a brand new iPhone now\"]\n",
    "y_data = [1, 0, 1, 0, 1]  # 1=Spam, 0=Ham\n",
    "\n",
    "vectorizer = CountVectorizer()\n",
    "X_vectorized = vectorizer.fit_transform(X_data)\n",
    "X_train, X_test, y_train, y_test = train_test_split(X_vectorized, y_data, test_size=0.4, random_state=42)\n",
    "\n",
    "@app.post(\"/api/upload\", response_class=HTMLResponse)\n",
    "async def upload_model(model: UploadFile = File(...)):\n",
    "    model_path = f\"uploaded_model.joblib\"\n",
    "    with open(model_path, \"wb\") as f:\n",
    "        content = await model.read()\n",
    "        f.write(content)\n",
    "\n",
    "    clf = load(model_path)\n",
    "    y_pred = clf.predict(X_test)\n",
    "\n",
    "    acc = accuracy_score(y_test, y_pred)\n",
    "    cls_report = classification_report(y_test, y_pred, output_dict=True)\n",
    "    conf_matrix = confusion_matrix(y_test, y_pred)\n",
    "\n",
    "    # Plot Confusion Matrix\n",
    "    plt.figure(figsize=(6, 5))\n",
    "    sns.heatmap(conf_matrix, annot=True, fmt='d', cmap='Blues', xticklabels=['Ham', 'Spam'], yticklabels=['Ham', 'Spam'])\n",
    "    plt.xlabel(\"Predicted\")\n",
    "    plt.ylabel(\"Actual\")\n",
    "    plt.title(\"Confusion Matrix\")\n",
    "    plt.tight_layout()\n",
    "    image_path = \"static/conf_matrix.png\"\n",
    "    os.makedirs(\"static\", exist_ok=True)\n",
    "    plt.savefig(image_path)\n",
    "    plt.close()\n",
    "\n",
    "    # Render HTML Dashboard\n",
    "    report_df = pd.DataFrame(cls_report).T.round(4)\n",
    "    html_table = report_df.to_html(classes=\"styled-table\")\n",
    "\n",
    "    html = f\"\"\"\n",
    "    <html>\n",
    "    <head>\n",
    "    <style>\n",
    "        body {{ background-color: #1c1f26; color: #d6ff4f; font-family: Arial; padding: 20px; }}\n",
    "        h2 {{ color: #d6ff4f; }}\n",
    "        .styled-table {{ border-collapse: collapse; width: 100%; color: white; }}\n",
    "        .styled-table th, .styled-table td {{ border: 1px solid #ddd; padding: 8px; }}\n",
    "        .styled-table th {{ background-color: #333; color: #d6ff4f; }}\n",
    "        img {{ margin-top: 20px; max-width: 500px; }}\n",
    "    </style>\n",
    "    </head>\n",
    "    <body>\n",
    "        <h1>Model Validation Feedback</h1>\n",
    "        <p>Your model accuracy is <strong>{acc:.2f}</strong>. Aim for at least 0.90 to pass benchmark.</p>\n",
    "        <h2>Detailed Metrics</h2>\n",
    "        {html_table}\n",
    "        <h2>Confusion Matrix</h2>\n",
    "        <img src=\"/{image_path}\" />\n",
    "    </body>\n",
    "    </html>\n",
    "    \"\"\"\n",
    "    return HTMLResponse(content=html)\n",
    "\n",
    "# Run this using: uvicorn model_validation_dashboard:app --reload\n"
   ]
  },
  {
   "cell_type": "code",
   "execution_count": null,
   "metadata": {},
   "outputs": [
    {
     "name": "stderr",
     "output_type": "stream",
     "text": [
      "INFO:     Started server process [50144]\n",
      "INFO:     Waiting for application startup.\n",
      "INFO:     Application startup complete.\n",
      "INFO:     Uvicorn running on http://0.0.0.0:8000 (Press CTRL+C to quit)\n"
     ]
    },
    {
     "name": "stdout",
     "output_type": "stream",
     "text": [
      "INFO:     127.0.0.1:56690 - \"GET / HTTP/1.1\" 404 Not Found\n",
      "INFO:     127.0.0.1:56690 - \"GET /favicon.ico HTTP/1.1\" 404 Not Found\n",
      "INFO:     127.0.0.1:56700 - \"GET / HTTP/1.1\" 404 Not Found\n"
     ]
    }
   ],
   "source": [
    "# ▶️ Start the FastAPI server inside the notebook\n",
    "import nest_asyncio\n",
    "import uvicorn\n",
    "\n",
    "nest_asyncio.apply()\n",
    "uvicorn.run(app, host=\"0.0.0.0\", port=8000)"
   ]
  },
  {
   "cell_type": "markdown",
   "metadata": {},
   "source": [
    "## 📤 Uploading a File using Python Requests"
   ]
  },
  {
   "cell_type": "code",
   "execution_count": null,
   "metadata": {},
   "outputs": [],
   "source": [
    "import requests\n",
    "import json\n",
    "\n",
    "# Define API URL\n",
    "url = \"http://localhost:8000/api/upload\"\n",
    "\n",
    "# Replace with your model file path\n",
    "model_file_path = \"spam_detection_model.joblib\"\n",
    "\n",
    "with open(model_path, \"rb\") as f:\n",
    "    res = requests.post(url, files={\"model\": f})\n",
    "    print(res.text)"
   ]
  },
  {
   "cell_type": "code",
   "execution_count": null,
   "metadata": {},
   "outputs": [],
   "source": []
  }
 ],
 "metadata": {
  "kernelspec": {
   "display_name": "Python 3 (ipykernel)",
   "language": "python",
   "name": "python3"
  },
  "language_info": {
   "codemirror_mode": {
    "name": "ipython",
    "version": 3
   },
   "file_extension": ".py",
   "mimetype": "text/x-python",
   "name": "python",
   "nbconvert_exporter": "python",
   "pygments_lexer": "ipython3",
   "version": "3.11.11"
  }
 },
 "nbformat": 4,
 "nbformat_minor": 4
}
